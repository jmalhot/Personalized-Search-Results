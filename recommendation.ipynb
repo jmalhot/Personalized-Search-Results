{
 "cells": [
  {
   "cell_type": "code",
   "execution_count": 1,
   "metadata": {},
   "outputs": [],
   "source": [
    "#####################################################################################\n",
    "# Import Libraries\n",
    "#####################################################################################\n",
    "from collections import defaultdict\n",
    "#import seaborn as sns\n",
    "#import matplotlib.pyplot as plt\n",
    "import json\n",
    "import pyspark\n",
    "from pyspark.sql import SparkSession\n",
    "from pyspark import SparkConf,SparkContext\n",
    "from pyspark.sql import SQLContext,functions as F\n",
    "from pyspark.sql.functions import col"
   ]
  },
  {
   "cell_type": "code",
   "execution_count": 2,
   "metadata": {},
   "outputs": [],
   "source": [
    "\n",
    "import time\n",
    "def get_epochs(val):\n",
    "    return int(time.mktime(time.strptime(val, '%Y%m%d%H%M%S')))\n",
    "\n",
    "\n",
    "\n",
    "def set_spark_session():\n",
    "    try:\n",
    "        spark = SparkSession \\\n",
    "                .builder \\\n",
    "                .appName(P_APP_NAME) \\\n",
    "                .config('spark.driver.memory', P_DRIVER_MEMORY) \\\n",
    "                .config('spark.executor.memory', P_EXECUTOR_MEMORY) \\\n",
    "                .config('spark.executor.cores',P_EXECUTOR_CORES) \\\n",
    "                .config('spark.mongodb.input.uri', P_INPUT_HOST_NAME) \\\n",
    "                .config('spark.mongodb.output.uri', P_OUTPUT_HOST_NAME) \\\n",
    "                .config('spark.sql.pivotMaxValues', P_PIVOT_MAX_VALUES) \\\n",
    "                .config('spark.jars.packages', P_MONGO_SPARK_CONNECTOR) \\\n",
    "                .config('spark.sql.inMemoryColumnarStorage.compressed',True) \\\n",
    "                .config('spark.sql.broadcastTimeout',\"36000\") \\\n",
    "                .getOrCreate()\n",
    " \n",
    "    except Exception as e:\n",
    "        #print(\"Error in SparkSession  -  \"+  str(e))\n",
    "        logging.exception(\"EXCEPTION -  Setting SparkSession\")\n",
    "        raise e    \n",
    "        \n",
    "    # Set SQL Context\n",
    "    sqlContext=SQLContext(spark)\n",
    "\n",
    "    return sqlContext,spark\n",
    "\n",
    "\n",
    "def load_user_event_logs(spark):\n",
    "    \n",
    "    \n",
    "    #Anonymous logs\n",
    "    df_a = spark.read.format(\"json\").load(P_EVENT_LOGS_A).filter( col(\"propertyId\").isNotNull() & \n",
    "                                                             col(\"userId\").isNotNull()\n",
    "                                                    )     \n",
    "    #Non-Anonymous logs\n",
    "    df_na = spark.read.format(\"json\").load(P_EVENT_LOGS_NA).filter( col(\"propertyId\").isNotNull() & \n",
    "                                                             col(\"userId\").isNotNull()\n",
    "                                                    )    \n",
    "    \n",
    "    \n",
    "    #merge both datasets\n",
    "    df_a.registerTempTable(\"df_tbl\")\n",
    "    df_na.registerTempTable(\"df_na_tbl\")\n",
    "    \n",
    "    df_union=spark.sql('''\n",
    "    select userId as USER_ID, propertyId as ITEM_ID, replace(propertyCountry,'Canada','CA') as COUNTRY, get_epochs(eventTimestamp) as TIMESTAMP from df_tbl\n",
    "    UNION ALL\n",
    "    select NVL(NVL(contactId.Id, userId),1) as USER_ID, propertyId as ITEM_ID, replace(propertyCountry,'Canada','CA') as COUNTRY, get_epochs(eventTimestamp) as TIMESTAMP from df_na_tbl\n",
    "    ''')\n",
    "    return df_union\n",
    "\n",
    "   \n"
   ]
  },
  {
   "cell_type": "code",
   "execution_count": 3,
   "metadata": {},
   "outputs": [],
   "source": [
    " def filter_inactive_properties(df):\n",
    "        \n",
    "        from pymongo import MongoClient\n",
    "        from bson.objectid import ObjectId\n",
    "        import pandas as pd\n",
    "        \n",
    "        #g_input=\"mongodb://10.0.1.70\"\n",
    "        #g_input=\"mongodb://3.210.155.32\"\n",
    "        \n",
    "        \n",
    "        \n",
    "        client = MongoClient(P_INPUT_MONGO_HOST,P_INPUT_MONGO_PORT)\n",
    "        \n",
    "        #client = MongoClient('mongodb://localhost:27017')\n",
    "\n",
    "\n",
    "        db = client.backend_production\n",
    "\n",
    "        df_pd = pd.DataFrame(columns=['propertyId'])\n",
    "        \n",
    "        l_cnt=0\n",
    "        \n",
    "        for i in df.select('item_id').distinct().collect():\n",
    "            #cnt= db.properties.find( {'mls_number': 'W4505836', 'status': 'active'}).count()\n",
    "            cnt= db.properties.find( {'_id': ObjectId(i[0]), 'status': 'active'}).count()\n",
    "            if cnt == 0:\n",
    "                l_cnt=l_cnt+1\n",
    "                df_pd.loc[l_cnt] = [i[0]]\n",
    "        \n",
    "        #print(df_pd.shape)\n",
    "        spark_df = sqlContext.createDataFrame(df_pd) \n",
    "        \n",
    "        # Create tables\n",
    "        spark_df.registerTempTable(\"spark_df_tbl\")\n",
    "        df.registerTempTable(\"df_tbl\")\n",
    "        \n",
    "        df_active=spark.sql('''\n",
    "                            select * from df_tbl a where 1=1 \n",
    "                            and not exists \n",
    "                                    (select 1 from spark_df_tbl b \n",
    "                                     where a.item_id=b.propertyId)\n",
    "\n",
    "                            ''')\n",
    "        df_filter_active=df_active.select('user_id', 'item_id', 'country', 'timestamp').distinct()\n",
    "\n",
    "        \n",
    "        return df_filter_active \n",
    "  "
   ]
  },
  {
   "cell_type": "code",
   "execution_count": 4,
   "metadata": {},
   "outputs": [],
   "source": [
    "  \n",
    "def events_popularity_score(df):\n",
    "        \n",
    "        df.registerTempTable(\"df_tbl\")\n",
    "        \n",
    "        df_popularity=spark.sql('''\n",
    "                        select item_id,country, count(distinct USER_ID) as count_score\n",
    "                        from df_tbl group by 1,2 order by 3 desc\n",
    "                        ''')\n",
    "        \n",
    "        '''\n",
    "        df_popularity=df_popularity.coalesce(1)\n",
    "        from pyspark.sql.functions import monotonically_increasing_id\n",
    "        df_popularity=df_popularity.withColumn('score', monotonically_increasing_id())\n",
    "        '''\n",
    "        \n",
    "        from pyspark.sql import Window\n",
    "        import pyspark.sql.functions as psf\n",
    "\n",
    "        cnt_score = Window.orderBy(psf.desc(\"count_score\"))\n",
    "\n",
    "        df_popularity_sc = df_popularity.withColumn(\"score\", \n",
    "                            psf.dense_rank().over(cnt_score)\n",
    "                            )\n",
    "        \n",
    "        return df_popularity_sc"
   ]
  },
  {
   "cell_type": "code",
   "execution_count": 5,
   "metadata": {},
   "outputs": [],
   "source": [
    "def update_score_in_mongo(df):\n",
    "    \n",
    "    #df=df.select('_id','score')\n",
    "    \n",
    "    import pyspark.sql.functions as sfunc\n",
    "    from pyspark.sql.types import StructType\n",
    "    \n",
    "\n",
    "   \n",
    "    udf_struct_id = sfunc.udf(\n",
    "        lambda x: tuple((str(x),)), \n",
    "        StructType([StructField(\"oid\",  StringType(), True)])\n",
    "    )\n",
    "\n",
    "        \n",
    "    df = df.withColumn('_id', udf_struct_id('_id'))\n",
    "    \n",
    "\n",
    "    \n",
    "    df.write.format(\"com.mongodb.spark.sql.DefaultSource\")\\\n",
    "            .mode(\"append\") \\\n",
    "            .option(\"database\",\"backend_production\")\\\n",
    "            .option(\"collection\", \"properties\")\\\n",
    "            .option(\"replaceDocument\", \"false\")\\\n",
    "            .save()\n",
    "    #Above will always append new fields to the existing records and will not change/touch existing fields\n",
    "    #use this to update score in mongo for popular matrix\n"
   ]
  },
  {
   "cell_type": "code",
   "execution_count": 6,
   "metadata": {},
   "outputs": [],
   "source": [
    "def find_event_items_similarities(df, df_ca):\n",
    "    df.registerTempTable(\"df_tbl\")\n",
    "    df_ca.registerTempTable(\"df_ca_tbl\")\n",
    "    \n",
    "    df_r=spark.sql('''\n",
    "        select df_ca.id1 as _id, min((df.score + df_ca.score)) as score\n",
    "        from df_tbl df, \n",
    "             df_ca_tbl df_ca\n",
    "        where df.item_id=  df_ca.id2\n",
    "        group by 1\n",
    "    ''')\n",
    "    \n",
    "    #df_r.cache()\n",
    "    \n",
    "    return df_r\n",
    "    \n",
    "    "
   ]
  },
  {
   "cell_type": "code",
   "execution_count": 7,
   "metadata": {},
   "outputs": [],
   "source": [
    "def normalize_score(df):\n",
    "    \n",
    "    from pyspark.ml.linalg import Vectors\n",
    "    from pyspark.ml.feature import VectorAssembler\n",
    "    from pyspark.ml.feature import StandardScaler\n",
    "\n",
    "\n",
    "    assembler = VectorAssembler(\n",
    "        inputCols=[\"score\"],\n",
    "        outputCol=\"score_v\")\n",
    "\n",
    "    output = assembler.transform(df)\n",
    "    \n",
    "    # Normalize each Vector using $L^1$ norm.\n",
    "    \n",
    "    scaler = StandardScaler(inputCol=\"score_v\", outputCol=\"popularity_score\",\n",
    "                        withStd=False, withMean=True)\n",
    "\n",
    "    # Compute summary statistics by fitting the StandardScaler\n",
    "    scalerModel = scaler.fit(output)\n",
    "\n",
    "    # Normalize each feature to have unit standard deviation.\n",
    "    scaledData = scalerModel.transform(output)\n",
    "    \n",
    "    return scaledData"
   ]
  },
  {
   "cell_type": "code",
   "execution_count": 7,
   "metadata": {},
   "outputs": [],
   "source": [
    "def get_similar_properties(df_similar_items, item_id):\n",
    "    return df_similar_items.filter(col('_id')==item_id )\n",
    "    "
   ]
  },
  {
   "cell_type": "code",
   "execution_count": 9,
   "metadata": {},
   "outputs": [
    {
     "data": {
      "text/plain": [
       "'\\nfrom nest_constants import *\\nfrom nest_similar_prop_main import *\\nif __name__ == \"__main__\":\\n    \\n    sqlContext,spark=load_spark()\\n    \\n    spark.udf.register(\"ttime\", ttime) \\n    \\n    df_union=load_events(spark)\\n    print(\"Total number of user events\", df_union.count())\\n    \\n    df_active=load_active_properties(df_union)\\n    print(\"Total number of user events having active items\", df_active.count())\\n    \\n    df=popularity(df_active)\\n    print(\"popularity done\")\\n    \\n    df_ca,df_us=similar_properties(spark,sqlContext)\\n    \\n    print(\"similarity done\")\\n    df_ca.show(10, False)\\n    \\n    df_ca_final=event_similarities(df,df_ca)\\n    print(\"adding similarity score to popularity done\")\\n    df_ca_final.cache()\\n    \\n    #df_ca_final.show(10, False)\\n    update_mongo_score(df_us_final)\\n    #df_ca=similarity_main_ca()\\n    #df.show(100, False)\\n'"
      ]
     },
     "execution_count": 9,
     "metadata": {},
     "output_type": "execute_result"
    }
   ],
   "source": [
    "'''\n",
    "from nest_constants import *\n",
    "from nest_similar_prop_main import *\n",
    "if __name__ == \"__main__\":\n",
    "    \n",
    "    sqlContext,spark=load_spark()\n",
    "    \n",
    "    spark.udf.register(\"ttime\", ttime) \n",
    "    \n",
    "    df_union=load_events(spark)\n",
    "    print(\"Total number of user events\", df_union.count())\n",
    "    \n",
    "    df_active=load_active_properties(df_union)\n",
    "    print(\"Total number of user events having active items\", df_active.count())\n",
    "    \n",
    "    df=popularity(df_active)\n",
    "    print(\"popularity done\")\n",
    "    \n",
    "    df_ca,df_us=similar_properties(spark,sqlContext)\n",
    "    \n",
    "    print(\"similarity done\")\n",
    "    df_ca.show(10, False)\n",
    "    \n",
    "    df_ca_final=event_similarities(df,df_ca)\n",
    "    print(\"adding similarity score to popularity done\")\n",
    "    df_ca_final.cache()\n",
    "    \n",
    "    #df_ca_final.show(10, False)\n",
    "    update_mongo_score(df_us_final)\n",
    "    #df_ca=similarity_main_ca()\n",
    "    #df.show(100, False)\n",
    "'''"
   ]
  },
  {
   "cell_type": "code",
   "execution_count": 8,
   "metadata": {},
   "outputs": [],
   "source": [
    "#db.properties.find( {'_id': ObjectId('5c7fb54364ad71000120c25f'), 'status': 'active'}).count()"
   ]
  },
  {
   "cell_type": "code",
   "execution_count": 8,
   "metadata": {},
   "outputs": [
    {
     "name": "stdout",
     "output_type": "stream",
     "text": [
      "Total number of user events 29534\n"
     ]
    }
   ],
   "source": [
    "from nest_constants import *\n",
    "from nest_similar_prop_main import *\n",
    "#if __name__ == \"__main__\":\n",
    "    \n",
    "sqlContext,spark=set_spark_session()\n",
    "spark.udf.register(\"get_epochs\", get_epochs)     \n",
    "\n",
    "df_union=load_user_event_logs(spark)\n",
    "print(\"Total number of user events\", df_union.count())\n",
    "\n",
    "\n"
   ]
  },
  {
   "cell_type": "code",
   "execution_count": 9,
   "metadata": {},
   "outputs": [
    {
     "name": "stderr",
     "output_type": "stream",
     "text": [
      "/Users/jatinmalhotra/anaconda3/lib/python3.7/site-packages/ipykernel_launcher.py:25: DeprecationWarning: count is deprecated. Use Collection.count_documents instead.\n"
     ]
    },
    {
     "name": "stdout",
     "output_type": "stream",
     "text": [
      "Total number of user events having active items 4864\n"
     ]
    }
   ],
   "source": [
    "   \n",
    "df_active=filter_inactive_properties(df_union)\n",
    "print(\"Total number of user events having active items\", df_active.count())\n",
    "    "
   ]
  },
  {
   "cell_type": "code",
   "execution_count": 11,
   "metadata": {},
   "outputs": [
    {
     "name": "stdout",
     "output_type": "stream",
     "text": [
      "root\n",
      " |-- user_id: string (nullable = true)\n",
      " |-- item_id: string (nullable = true)\n",
      " |-- country: string (nullable = true)\n",
      " |-- timestamp: string (nullable = true)\n",
      "\n"
     ]
    }
   ],
   "source": [
    "df_active.printSchema()"
   ]
  },
  {
   "cell_type": "code",
   "execution_count": 26,
   "metadata": {},
   "outputs": [
    {
     "name": "stdout",
     "output_type": "stream",
     "text": [
      "+-------+-----------------------+\n",
      "|country|count(DISTINCT item_id)|\n",
      "+-------+-----------------------+\n",
      "|null   |31                     |\n",
      "|CA     |658                    |\n",
      "|US     |1603                   |\n",
      "+-------+-----------------------+\n",
      "\n"
     ]
    }
   ],
   "source": [
    "# For STATS only\n",
    "\n",
    "df_active.registerTempTable(\"df_active_tbl\")\n",
    "spark.sql('''\n",
    "select country, count(distinct item_id ) from df_active_tbl group by 1\n",
    "''').show(10,False)\n"
   ]
  },
  {
   "cell_type": "code",
   "execution_count": 12,
   "metadata": {},
   "outputs": [
    {
     "name": "stdout",
     "output_type": "stream",
     "text": [
      "popularity done\n"
     ]
    }
   ],
   "source": [
    "df=events_popularity_score(df_active)\n",
    "print(\"popularity done\")\n"
   ]
  },
  {
   "cell_type": "code",
   "execution_count": 13,
   "metadata": {},
   "outputs": [
    {
     "name": "stdout",
     "output_type": "stream",
     "text": [
      "root\n",
      " |-- item_id: string (nullable = true)\n",
      " |-- country: string (nullable = true)\n",
      " |-- count_score: long (nullable = false)\n",
      " |-- score: integer (nullable = true)\n",
      "\n"
     ]
    }
   ],
   "source": [
    "df.printSchema()"
   ]
  },
  {
   "cell_type": "code",
   "execution_count": 32,
   "metadata": {},
   "outputs": [
    {
     "data": {
      "text/plain": [
       "2292"
      ]
     },
     "execution_count": 32,
     "metadata": {},
     "output_type": "execute_result"
    }
   ],
   "source": [
    "df.count()"
   ]
  },
  {
   "cell_type": "code",
   "execution_count": 14,
   "metadata": {},
   "outputs": [],
   "source": [
    "ca_data= df.filter(col('COUNTRY')=='CA')\n",
    "us_data= df.filter(col('COUNTRY')=='US')\n"
   ]
  },
  {
   "cell_type": "code",
   "execution_count": 14,
   "metadata": {},
   "outputs": [
    {
     "name": "stdout",
     "output_type": "stream",
     "text": [
      "root\n",
      " |-- item_id: string (nullable = true)\n",
      " |-- country: string (nullable = true)\n",
      " |-- count_score: long (nullable = false)\n",
      " |-- score: integer (nullable = true)\n",
      "\n"
     ]
    }
   ],
   "source": [
    "ca_data.printSchema()"
   ]
  },
  {
   "cell_type": "code",
   "execution_count": 26,
   "metadata": {},
   "outputs": [
    {
     "name": "stdout",
     "output_type": "stream",
     "text": [
      "+------------------------+-------+-----------+-----+\n",
      "|item_id                 |country|count_score|score|\n",
      "+------------------------+-------+-----------+-----+\n",
      "|5d1faf9f650b160001617b1f|CA     |9          |4    |\n",
      "|5c8a0f9abe7c7e00011c3803|CA     |7          |5    |\n",
      "|5d1faf43650b160001617b12|CA     |6          |6    |\n",
      "|5cbaefaa650b16000152c3c5|CA     |5          |7    |\n",
      "|5cc448d1650b160001552358|CA     |5          |7    |\n",
      "|5cf54a1e650b1600015bfa01|CA     |4          |8    |\n",
      "|5d1d4488650b160001617628|CA     |4          |8    |\n",
      "|5d1faf89650b160001617b1c|CA     |4          |8    |\n",
      "|5d189e58650b160001616dc7|CA     |4          |8    |\n",
      "|5d189800650b160001616a1e|CA     |3          |9    |\n",
      "+------------------------+-------+-----------+-----+\n",
      "only showing top 10 rows\n",
      "\n"
     ]
    }
   ],
   "source": [
    "ca_data.show(10, False)"
   ]
  },
  {
   "cell_type": "code",
   "execution_count": 15,
   "metadata": {},
   "outputs": [
    {
     "name": "stdout",
     "output_type": "stream",
     "text": [
      "CA took  1014.8570041656494\n",
      "similarity done\n"
     ]
    }
   ],
   "source": [
    "#this is for ca popularity score for popularity personalization\n",
    "# this is for ca user personalization\n",
    "\n",
    "df_ca_similar_items, df_us_similar_items= similar_properties(spark,\n",
    "                                        sqlContext,\n",
    "                                        ca_data,\n",
    "                                        us_data\n",
    "                                        )\n",
    "print(\"similarity done\")\n",
    "#df_ca.show(10, False)\n",
    "    \n",
    "#CA took  209.25046396255493 (without clearCache() and table cache)\n",
    "#CA took  926.3730092048645 (with clearCache() and df cache)\n",
    "#CA took  328.2677409648895 (without clearCache() and df cache)\n",
    "#CA took  372.06903076171875 (without clearCache() and df cache)\n",
    "#CA took  311.6600856781006 (without clearCache() and df cache)\n",
    "#CA took  367.44630002975464 (without clearCache() and table cache)\n",
    "#CA took  916.6582391262054 (with clearCache() and table cache)\n",
    "\n",
    "#Summary -\n",
    "#cache table or dataframe works the same\n",
    "#sqlContext.clearCache() slows down the things so should be removed"
   ]
  },
  {
   "cell_type": "code",
   "execution_count": 16,
   "metadata": {},
   "outputs": [
    {
     "data": {
      "text/plain": [
       "DataFrame[id1: string, id2: string, similarity_score: double, popularity_score: int]"
      ]
     },
     "execution_count": 16,
     "metadata": {},
     "output_type": "execute_result"
    }
   ],
   "source": [
    "df_ca_similar_items.cache()\n",
    "df_us_similar_items.cache()\n"
   ]
  },
  {
   "cell_type": "code",
   "execution_count": 20,
   "metadata": {},
   "outputs": [
    {
     "name": "stdout",
     "output_type": "stream",
     "text": [
      "root\n",
      " |-- id1: string (nullable = true)\n",
      " |-- id2: string (nullable = true)\n",
      " |-- similarity_score: double (nullable = true)\n",
      " |-- popularity_score: integer (nullable = true)\n",
      "\n"
     ]
    }
   ],
   "source": [
    "df_ca_similar_items.printSchema()"
   ]
  },
  {
   "cell_type": "code",
   "execution_count": 19,
   "metadata": {},
   "outputs": [
    {
     "name": "stdout",
     "output_type": "stream",
     "text": [
      "+------------------------+-------+\n",
      "|_id                     |score  |\n",
      "+------------------------+-------+\n",
      "|5c7fb54364ad71000120c25f|10.0   |\n",
      "|5d35b14d106d4e00011f3462|10.4074|\n",
      "|5d343b8c106d4e000119aa57|10.4074|\n",
      "|5cfef7c8650b1600015db429|10.4074|\n",
      "|5d35c21b106d4e00011f5294|10.4074|\n",
      "|5d019b1c650b1600015e6e27|11.0   |\n",
      "|5d35b9f2106d4e00011f425e|11.1818|\n",
      "|5d35b9d2106d4e00011f4228|11.1818|\n",
      "|5d35b981106d4e00011f4134|11.1818|\n",
      "|5d35b86f106d4e00011f3f0b|11.1818|\n",
      "+------------------------+-------+\n",
      "only showing top 10 rows\n",
      "\n"
     ]
    }
   ],
   "source": [
    "df_ca_similar_items.show(10, False)"
   ]
  },
  {
   "cell_type": "code",
   "execution_count": 22,
   "metadata": {},
   "outputs": [
    {
     "name": "stdout",
     "output_type": "stream",
     "text": [
      "+------------------------+------------------------+-------------------+----------------+\n",
      "|id1                     |id2                     |similarity_score   |popularity_score|\n",
      "+------------------------+------------------------+-------------------+----------------+\n",
      "|5c7fb54364ad71000120c25f|5c7fb54364ad71000120c25f|0.0                |10              |\n",
      "|5cfef7c8650b1600015db429|5c7fb54364ad71000120c25f|0.40740740740740744|10              |\n",
      "|5d35b14d106d4e00011f3462|5c7fb54364ad71000120c25f|0.40740740740740744|10              |\n",
      "|5d35c21b106d4e00011f5294|5c7fb54364ad71000120c25f|0.40740740740740744|10              |\n",
      "|5d343b8c106d4e000119aa57|5c7fb54364ad71000120c25f|0.40740740740740744|10              |\n",
      "|5d019b1c650b1600015e6e27|5d019b1c650b1600015e6e27|0.0                |11              |\n",
      "|5d35bba6106d4e00011f45b1|5d019b1c650b1600015e6e27|0.18181818181818177|11              |\n",
      "|5d35b86f106d4e00011f3f0b|5d019b1c650b1600015e6e27|0.18181818181818177|11              |\n",
      "|5d35b981106d4e00011f4134|5d019b1c650b1600015e6e27|0.18181818181818177|11              |\n",
      "|5d35b9d2106d4e00011f4228|5d019b1c650b1600015e6e27|0.18181818181818177|11              |\n",
      "+------------------------+------------------------+-------------------+----------------+\n",
      "only showing top 10 rows\n",
      "\n"
     ]
    }
   ],
   "source": [
    "df_ca_similar_items.show(10, False)"
   ]
  },
  {
   "cell_type": "code",
   "execution_count": 25,
   "metadata": {},
   "outputs": [],
   "source": [
    "df_ca_similar_items.registerTempTable(\"df_ca_similar_items_tbl\")"
   ]
  },
  {
   "cell_type": "code",
   "execution_count": 40,
   "metadata": {},
   "outputs": [],
   "source": [
    "df_ca_mongo=spark.sql('''\n",
    "select id1 as _id, min(similarity_score + popularity_score) as score\n",
    "from df_ca_similar_items_tbl\n",
    "group by 1\n",
    "\n",
    "''')"
   ]
  },
  {
   "cell_type": "code",
   "execution_count": 37,
   "metadata": {},
   "outputs": [],
   "source": [
    "df_ca_mongo.registerTempTable(\"df_ca_mongo_tbl\")"
   ]
  },
  {
   "cell_type": "code",
   "execution_count": 38,
   "metadata": {},
   "outputs": [
    {
     "name": "stdout",
     "output_type": "stream",
     "text": [
      "+---+--------+\n",
      "|id1|count(1)|\n",
      "+---+--------+\n",
      "+---+--------+\n",
      "\n"
     ]
    }
   ],
   "source": [
    "spark.sql('''\n",
    "select id1, count(1) from df_ca_mongo_tbl  group by 1 having count(1) > 1\n",
    "''').show(100, False)"
   ]
  },
  {
   "cell_type": "code",
   "execution_count": 33,
   "metadata": {},
   "outputs": [
    {
     "name": "stdout",
     "output_type": "stream",
     "text": [
      "+------------------------+------------------+\n",
      "|id1                     |score             |\n",
      "+------------------------+------------------+\n",
      "|5d355ac1106d4e00011cb906|11.0              |\n",
      "|5d355ac1106d4e00011cb906|11.25             |\n",
      "|5d355ac1106d4e00011cb906|11.291666666666666|\n",
      "|5d355ac1106d4e00011cb906|11.28             |\n",
      "+------------------------+------------------+\n",
      "\n"
     ]
    }
   ],
   "source": [
    "spark.sql('''\n",
    "select * from df_ca_mongo_tbl  where id1='5d355ac1106d4e00011cb906'\n",
    "''').show(100, False)"
   ]
  },
  {
   "cell_type": "code",
   "execution_count": 25,
   "metadata": {},
   "outputs": [],
   "source": [
    "#from pyspark.sql.functions import broadcast\n",
    "#df_events_new = broadcast(spark.table(\"df_tbl\")).join(spark.table(\"df_ca_tbl\"), \"item_id\")"
   ]
  },
  {
   "cell_type": "code",
   "execution_count": 74,
   "metadata": {},
   "outputs": [],
   "source": [
    "## Testing\n",
    "#df=normalize_score(df_ca_final)"
   ]
  },
  {
   "cell_type": "code",
   "execution_count": 75,
   "metadata": {},
   "outputs": [
    {
     "name": "stdout",
     "output_type": "stream",
     "text": [
      "root\n",
      " |-- _id: string (nullable = true)\n",
      " |-- score: double (nullable = true)\n",
      " |-- score_v: vector (nullable = true)\n",
      " |-- popularity_score: vector (nullable = true)\n",
      "\n"
     ]
    }
   ],
   "source": [
    "df.printSchema()"
   ]
  },
  {
   "cell_type": "code",
   "execution_count": 77,
   "metadata": {},
   "outputs": [
    {
     "name": "stdout",
     "output_type": "stream",
     "text": [
      "+------------------------+------------------+--------------------+---------------------+\n",
      "|_id                     |score             |score_v             |popularity_score     |\n",
      "+------------------------+------------------+--------------------+---------------------+\n",
      "|5c7fb54364ad71000120c25f|10.0              |[10.0]              |[-0.9460964885829615]|\n",
      "|5d019b1c650b1600015e6e27|11.0              |[11.0]              |[0.05390351141703853]|\n",
      "|5d189a2f650b160001616b4b|11.0              |[11.0]              |[0.05390351141703853]|\n",
      "|5d35b272106d4e00011f3675|11.217391304347826|[11.217391304347826]|[0.2712948157648647] |\n",
      "|5bbe6d997c1e9000015bace0|11.461538461538462|[11.461538461538462]|[0.5154419729555002] |\n",
      "|5d35b662106d4e00011f3b6d|11.227272727272727|[11.227272727272727]|[0.28117623868976516]|\n",
      "|5bbf707ba6e5f20001a50fed|11.481481481481481|[11.481481481481481]|[0.5353849928985195] |\n",
      "|5d12567a650b1600016011a8|11.217391304347826|[11.217391304347826]|[0.2712948157648647] |\n",
      "|5cff02c3650b1600015dced4|11.0              |[11.0]              |[0.05390351141703853]|\n",
      "|5d1242da650b160001600c31|11.0              |[11.0]              |[0.05390351141703853]|\n",
      "+------------------------+------------------+--------------------+---------------------+\n",
      "only showing top 10 rows\n",
      "\n"
     ]
    }
   ],
   "source": [
    "df.show(10, False)"
   ]
  },
  {
   "cell_type": "code",
   "execution_count": null,
   "metadata": {},
   "outputs": [],
   "source": [
    "# Testing Ends"
   ]
  },
  {
   "cell_type": "code",
   "execution_count": 41,
   "metadata": {},
   "outputs": [],
   "source": [
    "update_score_in_mongo(df_ca_mongo)"
   ]
  },
  {
   "cell_type": "code",
   "execution_count": 61,
   "metadata": {},
   "outputs": [
    {
     "name": "stdout",
     "output_type": "stream",
     "text": [
      "<function p at 0x7f8da0c4a400>\n"
     ]
    }
   ],
   "source": [
    "print(p)"
   ]
  },
  {
   "cell_type": "code",
   "execution_count": 59,
   "metadata": {},
   "outputs": [],
   "source": [
    "def p():\n",
    "    return \"hello\""
   ]
  },
  {
   "cell_type": "code",
   "execution_count": null,
   "metadata": {},
   "outputs": [],
   "source": []
  },
  {
   "cell_type": "code",
   "execution_count": null,
   "metadata": {},
   "outputs": [],
   "source": [
    "## USER PERSONALIZATION LOGIC STARTS ## "
   ]
  },
  {
   "cell_type": "code",
   "execution_count": 42,
   "metadata": {},
   "outputs": [
    {
     "name": "stdout",
     "output_type": "stream",
     "text": [
      "+--------------------------------+------------------------+-------+----------+\n",
      "|user_id                         |item_id                 |country|timestamp |\n",
      "+--------------------------------+------------------------+-------+----------+\n",
      "|987a9f8d9eed87796620f3d9c0dcf911|5d189605650b160001616942|CA     |1562975978|\n",
      "|61e448f186b4f14151c0fa57811afca3|5ce09288517b8300016fc74c|US     |1561432929|\n",
      "|7a5dbc9b61bb726ac416cc14e2492ac2|5cb501459e9933000187ab22|US     |1555527030|\n",
      "|132e0f117786fc5979f24085d4705cf1|5d075ece650b1600015efb18|CA     |1563120276|\n",
      "|9bd43e0b9ddadbdbcbc3ef52215b7745|5cfaf24d650b1600015d591c|CA     |1560154896|\n",
      "|cd08ef3ba3aad8c5a7bdb7715d63afa7|5ca92d6e9e993300014c53d4|US     |1555009779|\n",
      "|1490334b1e10b7bfaa2d1f1950a433f8|5cfbafcf95148a000175bff9|US     |1560115335|\n",
      "|7d17411ea1fbac68fe0b66c61fd08af5|5cff0abf650b1600015dcf9c|CA     |1562822107|\n",
      "|ba14c159f8ac28f3dabbb224ea8c1e67|5ce53fc6650b1600015775da|CA     |1563496016|\n",
      "|3f296bc7a95a0bf5ca4f7e44f839044d|5c998f3e6b8d8200012b3959|US     |1560232817|\n",
      "+--------------------------------+------------------------+-------+----------+\n",
      "only showing top 10 rows\n",
      "\n"
     ]
    }
   ],
   "source": [
    "df_active.show(10, False)"
   ]
  },
  {
   "cell_type": "code",
   "execution_count": 49,
   "metadata": {},
   "outputs": [],
   "source": [
    "def user_item_popularity(df):\n",
    "    \n",
    "    from pyspark.sql.window import Window\n",
    "    from pyspark.sql.functions import rank, col\n",
    "    \n",
    "    df.registerTempTable(\"df_tbl\")\n",
    "    \n",
    "    df_tmp=spark.sql('''\n",
    "                select user_id, item_id, count(*) as count_score from df_tbl\n",
    "                group by 1, 2 order by 1,3 desc\n",
    "                ''')\n",
    "    \n",
    "\n",
    "    window = Window.partitionBy(df_tmp['user_id']).orderBy(df_tmp['count_score'].desc())\n",
    "\n",
    "    return df_tmp.select('user_id','item_id', rank().over(window).alias('score'))\n",
    "\n",
    "\n",
    "def user_item_similarities(df, df_similar):\n",
    "    \n",
    "    df.registerTempTable(\"df_user_events\")\n",
    "    df_similar.registerTempTable(\"df_similar_items\")\n",
    "    \n",
    "    return spark.sql('''\n",
    "        select df.user_id, df_similar.id1 as _id, min((df.score + df_similar.similarity_score)) as score\n",
    "        from df_user_events df, \n",
    "             df_similar_items df_similar\n",
    "        where df.item_id=  df_similar.id2\n",
    "        group by 1,2 order by 1,3 asc\n",
    "    ''')"
   ]
  },
  {
   "cell_type": "code",
   "execution_count": 44,
   "metadata": {},
   "outputs": [],
   "source": [
    "a=user_item_popularity(df_active)"
   ]
  },
  {
   "cell_type": "code",
   "execution_count": 45,
   "metadata": {},
   "outputs": [
    {
     "name": "stdout",
     "output_type": "stream",
     "text": [
      "root\n",
      " |-- user_id: string (nullable = true)\n",
      " |-- item_id: string (nullable = true)\n",
      " |-- score: integer (nullable = true)\n",
      "\n"
     ]
    }
   ],
   "source": [
    "a.printSchema()"
   ]
  },
  {
   "cell_type": "code",
   "execution_count": 46,
   "metadata": {},
   "outputs": [
    {
     "name": "stdout",
     "output_type": "stream",
     "text": [
      "+--------------------------------+------------------------+-----+\n",
      "|user_id                         |item_id                 |score|\n",
      "+--------------------------------+------------------------+-----+\n",
      "|0408ee02bab4726393d2dbb26adb9e5d|5d347fad106d4e00011b1c18|1    |\n",
      "|1149d7e68f75b061ab0d829e537e8a92|5d0ff5f5d6402400015dad86|1    |\n",
      "|55d03bb1d723f64e57f6144153b365cf|5d3095526cf18100012d8228|1    |\n",
      "|051cc4acc2edf837c2d4bfb9ab4e2609|5c559c62040f8b000165f80f|1    |\n",
      "|662bf29981476f4ed14bad4c7f67b4eb|5c9ae02368734500014b4a87|1    |\n",
      "|662bf29981476f4ed14bad4c7f67b4eb|5c89855b0c69a3000151535f|2    |\n",
      "|662bf29981476f4ed14bad4c7f67b4eb|5c9233aabe12b10001506e3b|2    |\n",
      "|662bf29981476f4ed14bad4c7f67b4eb|5c5ba4cfd4c80c000105b167|2    |\n",
      "|662bf29981476f4ed14bad4c7f67b4eb|5c5198cad3f73c00012d6640|2    |\n",
      "|746cbe5d9cdb44ce2d05cfa55e948c9d|5d33f52c80e0170001ec307d|1    |\n",
      "|746cbe5d9cdb44ce2d05cfa55e948c9d|5d2b3cad943d490001e03c30|2    |\n",
      "|746cbe5d9cdb44ce2d05cfa55e948c9d|5cb951299e99330001defed8|2    |\n",
      "|746cbe5d9cdb44ce2d05cfa55e948c9d|5d1af0d8854201000127ed62|4    |\n",
      "|746cbe5d9cdb44ce2d05cfa55e948c9d|5d02307d8045ef0001eff7c4|5    |\n",
      "|746cbe5d9cdb44ce2d05cfa55e948c9d|5d27fbdf943d49000199e5c0|6    |\n",
      "|746cbe5d9cdb44ce2d05cfa55e948c9d|5d33eb970e8c80000181d17e|6    |\n",
      "|746cbe5d9cdb44ce2d05cfa55e948c9d|5d268007943d490001848d8b|6    |\n",
      "|0eaa205a6b260068b7ea1d69b74e6995|5c5dcaf9af2ac70001c4c36a|1    |\n",
      "|5d31d8c74cfe7a0007d139e9        |5d04a295cef824000164fde3|1    |\n",
      "|5d31d8c74cfe7a0007d139e9        |5c4ce94bdc2e4d00014e6b61|1    |\n",
      "|5d31d8c74cfe7a0007d139e9        |5cd681810e4c6b00011ebdf6|1    |\n",
      "|5d31d8c74cfe7a0007d139e9        |5bb61c96ee13c60001cbb19f|1    |\n",
      "|5d31d8c74cfe7a0007d139e9        |5d04a18540d3850001025630|1    |\n",
      "|5d31d8c74cfe7a0007d139e9        |5cd682e40e4c6b00011ed9c0|6    |\n",
      "|6c6d96339b7329c5c980c3e4c9741532|5cbaefaa650b16000152c3c5|1    |\n",
      "|6c6d96339b7329c5c980c3e4c9741532|5d189e58650b160001616dc7|1    |\n",
      "|6c6d96339b7329c5c980c3e4c9741532|5ccadfb5650b160001555043|1    |\n",
      "|c012202a1ea25120cb92c4d3abe6fa7d|5c8c9101be7c7e00011e5342|1    |\n",
      "|e739f38e2770fb54c1e59b98cc1b803f|5cbaefaa650b16000152c3c5|1    |\n",
      "|32663472c9a8da9044b8cb80c40e8ebc|5cfbc5b995148a0001773a3e|1    |\n",
      "|67985419194241c138df5dbc4fe0ea59|5d1259f4650b1600016013dc|1    |\n",
      "|c14d60eef4a2eea14c470c91c15b557f|5cb11b42d68dfb000100f794|1    |\n",
      "|c14d60eef4a2eea14c470c91c15b557f|5cb10208b39b1b0001dd8b1e|1    |\n",
      "|c14d60eef4a2eea14c470c91c15b557f|5c8c7b9ceee13f0001cc6db4|1    |\n",
      "|c14d60eef4a2eea14c470c91c15b557f|5c6c980e6714b70001e791c1|1    |\n",
      "|c14d60eef4a2eea14c470c91c15b557f|5cb118b6b39b1b0001e827aa|1    |\n",
      "|c14d60eef4a2eea14c470c91c15b557f|5c94106b0e816a00016b0b31|1    |\n",
      "|c14d60eef4a2eea14c470c91c15b557f|5c8244fface0c60001ff299f|1    |\n",
      "|c14d60eef4a2eea14c470c91c15b557f|5c8d2378835437000186a43e|1    |\n",
      "|c14d60eef4a2eea14c470c91c15b557f|5cefbc4c8045ef0001e80882|1    |\n",
      "|c14d60eef4a2eea14c470c91c15b557f|5cb112919e993300017193b8|1    |\n",
      "|c14d60eef4a2eea14c470c91c15b557f|5c7149c7d4c80c00018673ad|1    |\n",
      "|d52a2d72c65ac925dceee19545fcaed0|5d2dcce36cf1810001128a64|1    |\n",
      "|1489696a313d2f6fac74b4c03d2b031a|5d3ae2c5aab5b70001891d06|1    |\n",
      "|1489696a313d2f6fac74b4c03d2b031a|5d3b67d9aab5b7000189a69f|2    |\n",
      "|1489696a313d2f6fac74b4c03d2b031a|5d3a0f51aab5b70001881453|2    |\n",
      "|cd08ef3ba3aad8c5a7bdb7715d63afa7|5beac17121611f0001d7417e|1    |\n",
      "|cd08ef3ba3aad8c5a7bdb7715d63afa7|5ca91ef3d68dfb0001d3e116|1    |\n",
      "|cd08ef3ba3aad8c5a7bdb7715d63afa7|5ca92d6e9e993300014c53d4|1    |\n",
      "|cd08ef3ba3aad8c5a7bdb7715d63afa7|5ca9f23d4d78d200014d57ed|1    |\n",
      "|6f359cd7336633df82b0978e898b6d74|5d1259c1650b1600016013b9|1    |\n",
      "|c08840119ded0c6f7e6d07b63fcd1c90|5d357f60106d4e00011e092f|1    |\n",
      "|c08840119ded0c6f7e6d07b63fcd1c90|5d357dbc106d4e00011dffbc|1    |\n",
      "|c08840119ded0c6f7e6d07b63fcd1c90|5d379e9aaab5b70001838511|3    |\n",
      "|c08840119ded0c6f7e6d07b63fcd1c90|5d156f58650b1600016070de|3    |\n",
      "|c08840119ded0c6f7e6d07b63fcd1c90|5d379ed1aab5b70001838791|3    |\n",
      "|c08840119ded0c6f7e6d07b63fcd1c90|5d377bcfaab5b70001836168|3    |\n",
      "|c08840119ded0c6f7e6d07b63fcd1c90|5d377b5aaab5b70001835fb8|3    |\n",
      "|c08840119ded0c6f7e6d07b63fcd1c90|5cfae29f650b1600015d253b|3    |\n",
      "|c08840119ded0c6f7e6d07b63fcd1c90|5d3779c9aab5b70001835ef3|9    |\n",
      "|c08840119ded0c6f7e6d07b63fcd1c90|5cfedec9650b1600015dab35|9    |\n",
      "|d526bf447bb262c57dc283ebb3039711|5d189ee2650b160001616e1e|1    |\n",
      "|dc0cf0da69edc1baf85b04415ab01a49|5d35b516106d4e00011f39bf|1    |\n",
      "|574f3df608378aa772c48909605f85b8|5d03ca5540d3850001fc7ce0|1    |\n",
      "|574f3df608378aa772c48909605f85b8|5d16201bb076d800017e2448|1    |\n",
      "|574f3df608378aa772c48909605f85b8|5d09570255db1a000123aa24|1    |\n",
      "|574f3df608378aa772c48909605f85b8|5d2c77c36cf181000109f59d|1    |\n",
      "|574f3df608378aa772c48909605f85b8|5d1fdad88045ef0001f607ad|1    |\n",
      "|574f3df608378aa772c48909605f85b8|5cac98e14d78d2000187428f|1    |\n",
      "|574f3df608378aa772c48909605f85b8|5caf3d504d78d20001a710ba|1    |\n",
      "|574f3df608378aa772c48909605f85b8|5cd5be3e0e4c6b000119e8a1|1    |\n",
      "|5c74d844db7ef8f5cc8e66e2c94e7390|5d00a501650b1600015e1cca|1    |\n",
      "|85fb0b4f7074e8687a92cee42df399e7|5c5de2cc44e34700018203d9|1    |\n",
      "|38bf35557a71867235f6abcf2048fb3b|5d189e58650b160001616dc7|1    |\n",
      "|48744fd5d7059fe47ea267de0a5a225f|5d386eb6aab5b700018784ce|1    |\n",
      "|4dff92ae221e11143466f0cfbe20cb2f|5d2dcce36cf1810001128a64|1    |\n",
      "|9a7d8b5b526ed85d08cbc4902e8601fc|5c871a327d2bd50001088b40|1    |\n",
      "|f95b07b31cd3038a67f0d4d48c0e3cd9|5cf54a32650b1600015bfa1b|1    |\n",
      "|1aae7bac9d9b3881b389160ced3839eb|5d3733c9270943000182b2ef|1    |\n",
      "|1aae7bac9d9b3881b389160ced3839eb|5d2374d76cf1810001b8777d|2    |\n",
      "|1aae7bac9d9b3881b389160ced3839eb|5d1e2220cdae8a00019099ca|3    |\n",
      "|1aae7bac9d9b3881b389160ced3839eb|5d2f34e4943d490001147e75|3    |\n",
      "|1aae7bac9d9b3881b389160ced3839eb|5d2e60b0943d4900010a48ee|3    |\n",
      "|5d2a441b86a7890007120208        |5d24e5ac6cf1810001c4b2d3|1    |\n",
      "|5d2a441b86a7890007120208        |5d274e196cf1810001d8e151|2    |\n",
      "|5d2a441b86a7890007120208        |5d02dcc240d3850001f66ac8|3    |\n",
      "|5d2a441b86a7890007120208        |5d267091943d49000183dfdf|3    |\n",
      "|5d2a441b86a7890007120208        |5d296cc8943d490001c061db|3    |\n",
      "|5d2a441b86a7890007120208        |5cc0640b6cdf030001f435c5|3    |\n",
      "|5d2a441b86a7890007120208        |5ce0577b517b83000163d801|3    |\n",
      "|5d2a441b86a7890007120208        |5d1ee5afcdae8a00019c0d7c|3    |\n",
      "|5d2a441b86a7890007120208        |5d267b70943d490001843bdb|9    |\n",
      "|5d2a441b86a7890007120208        |5d26946a943d490001869145|9    |\n",
      "|5d2a441b86a7890007120208        |5d24cb356cf1810001c2e8f7|9    |\n",
      "|c37d6b8e8ed76f832929d9c57b6edeed|5d28a260943d490001b0bd64|1    |\n",
      "|6fef6bad6843a2891665f90d2e09d221|5d0e343c6a0b49000100e517|1    |\n",
      "|85bb9b625d83efbec8b056f8c73b9c3d|5c41e79cbf544500014bc53f|1    |\n",
      "|85bb9b625d83efbec8b056f8c73b9c3d|5c8cfc07d4c80c0001b484f7|1    |\n",
      "|85bb9b625d83efbec8b056f8c73b9c3d|5aeb7befe632280001902ef6|1    |\n",
      "|85bb9b625d83efbec8b056f8c73b9c3d|5b5ca139f3a9ea00014ce0df|1    |\n",
      "+--------------------------------+------------------------+-----+\n",
      "only showing top 100 rows\n",
      "\n"
     ]
    }
   ],
   "source": [
    "a.show(100,False)"
   ]
  },
  {
   "cell_type": "code",
   "execution_count": 50,
   "metadata": {},
   "outputs": [],
   "source": [
    "b=user_item_similarities(a,df_ca_similar_items)"
   ]
  },
  {
   "cell_type": "code",
   "execution_count": 51,
   "metadata": {},
   "outputs": [
    {
     "name": "stdout",
     "output_type": "stream",
     "text": [
      "+--------------------------------+------------------------+------------------+\n",
      "|user_id                         |_id                     |score             |\n",
      "+--------------------------------+------------------------+------------------+\n",
      "|0031d33bcfa3e7e69b58fc27a2f36661|5d1faf9f650b160001617b1f|1.0               |\n",
      "|0031d33bcfa3e7e69b58fc27a2f36661|5ce6f610650b16000158fa89|1.2173913043478262|\n",
      "|0031d33bcfa3e7e69b58fc27a2f36661|5d367803106d4e00011f76ab|1.2173913043478262|\n",
      "|0031d33bcfa3e7e69b58fc27a2f36661|5d35aa93106d4e00011f2aea|1.25              |\n",
      "|0031d33bcfa3e7e69b58fc27a2f36661|5d076187650b1600015efcfb|1.28              |\n",
      "|00345349a8d815080067497d50a4439c|5cd0a8ce650b1600015693b8|1.0               |\n",
      "|00345349a8d815080067497d50a4439c|5cc4f163650b1600015538d9|1.4074074074074074|\n",
      "|00345349a8d815080067497d50a4439c|5cc67a2f650b160001554c95|1.4074074074074074|\n",
      "|00345349a8d815080067497d50a4439c|5d35ac9c106d4e00011f2cd8|1.4444444444444444|\n",
      "|00345349a8d815080067497d50a4439c|5cfae621650b1600015d5053|1.4642857142857144|\n",
      "|00345349a8d815080067497d50a4439c|5ce6e777650b16000158ebdd|2.0               |\n",
      "|00345349a8d815080067497d50a4439c|5cf53f62650b1600015bf2f3|2.0               |\n",
      "|00345349a8d815080067497d50a4439c|5d362664106d4e00011f602f|2.3846153846153846|\n",
      "|00345349a8d815080067497d50a4439c|5cd0b18f650b160001569d13|2.3846153846153846|\n",
      "|00345349a8d815080067497d50a4439c|5d3450e8106d4e000119fa05|2.4074074074074074|\n",
      "|00345349a8d815080067497d50a4439c|5d347918106d4e00011ad4d5|2.4074074074074074|\n",
      "|00345349a8d815080067497d50a4439c|5ce6f516650b16000158f99c|2.4230769230769234|\n",
      "|00345349a8d815080067497d50a4439c|5ce6ed30650b16000158f198|2.4230769230769234|\n",
      "|00345349a8d815080067497d50a4439c|5d125a9f650b16000160144b|2.4230769230769234|\n",
      "|00345349a8d815080067497d50a4439c|5d347fae106d4e00011b1c26|2.4230769230769234|\n",
      "|0143cefe331ac3ee2a77115a66ed2e51|5cd0b00c650b160001569bb6|1.0               |\n",
      "|0143cefe331ac3ee2a77115a66ed2e51|5cd0b008650b160001569bb2|1.0869565217391304|\n",
      "|0143cefe331ac3ee2a77115a66ed2e51|5d3480f4106d4e00011b28bd|1.3703703703703702|\n",
      "|0143cefe331ac3ee2a77115a66ed2e51|5ced6666650b1600015ae0d9|1.4285714285714286|\n",
      "|0143cefe331ac3ee2a77115a66ed2e51|5ced446e650b1600015ac09d|1.4285714285714286|\n",
      "|0143cefe331ac3ee2a77115a66ed2e51|5cfefd30650b1600015dce46|2.0               |\n",
      "|0143cefe331ac3ee2a77115a66ed2e51|5cc485c7650b160001552f9d|2.3461538461538463|\n",
      "|0143cefe331ac3ee2a77115a66ed2e51|5d35b041106d4e00011f31eb|2.36              |\n",
      "|0143cefe331ac3ee2a77115a66ed2e51|5d354f91106d4e00011c40ff|2.3703703703703702|\n",
      "|0143cefe331ac3ee2a77115a66ed2e51|5d12aa7e650b16000160616b|2.3846153846153846|\n",
      "|0143cefe331ac3ee2a77115a66ed2e51|5d12a737650b1600016060fc|2.3846153846153846|\n",
      "|0143cefe331ac3ee2a77115a66ed2e51|5cd0afef650b160001569b93|2.428571428571429 |\n",
      "|0143cefe331ac3ee2a77115a66ed2e51|5d35b12c106d4e00011f3421|4.3076923076923075|\n",
      "|0143cefe331ac3ee2a77115a66ed2e51|5d18936e650b1600016167fd|4.3076923076923075|\n",
      "|0143cefe331ac3ee2a77115a66ed2e51|5d188f90650b1600016165eb|4.3076923076923075|\n",
      "|0143cefe331ac3ee2a77115a66ed2e51|5d124012650b160001600a7c|4.346153846153846 |\n",
      "|0143cefe331ac3ee2a77115a66ed2e51|5c7fb54364ad71000120c25f|5.0               |\n",
      "|0143cefe331ac3ee2a77115a66ed2e51|5cbb0ed1650b16000152db8d|5.0               |\n",
      "|0143cefe331ac3ee2a77115a66ed2e51|5b7ef6c81f6d950001b649fa|5.0               |\n",
      "|0143cefe331ac3ee2a77115a66ed2e51|5ced4458650b1600015ac094|5.0               |\n",
      "|0143cefe331ac3ee2a77115a66ed2e51|5ccd8bfd650b160001557234|5.217391304347826 |\n",
      "|0143cefe331ac3ee2a77115a66ed2e51|5c974cbbb5d5080001a080c4|5.217391304347826 |\n",
      "|0143cefe331ac3ee2a77115a66ed2e51|5d12a3e1650b16000160606b|5.32              |\n",
      "|0143cefe331ac3ee2a77115a66ed2e51|5d35b9e8106d4e00011f4244|5.333333333333333 |\n",
      "|0143cefe331ac3ee2a77115a66ed2e51|5d125308650b1600016010e5|5.36              |\n",
      "|0143cefe331ac3ee2a77115a66ed2e51|5d35934b106d4e00011ec739|5.36              |\n",
      "|0143cefe331ac3ee2a77115a66ed2e51|5d188d20650b1600016164c7|5.36              |\n",
      "|0143cefe331ac3ee2a77115a66ed2e51|5d189085650b160001616685|5.384615384615385 |\n",
      "|0143cefe331ac3ee2a77115a66ed2e51|5d35c21b106d4e00011f5294|5.407407407407407 |\n",
      "|0143cefe331ac3ee2a77115a66ed2e51|5cfef7c8650b1600015db429|5.407407407407407 |\n",
      "|0143cefe331ac3ee2a77115a66ed2e51|5d35b14d106d4e00011f3462|5.407407407407407 |\n",
      "|0143cefe331ac3ee2a77115a66ed2e51|5d343b8c106d4e000119aa57|5.407407407407407 |\n",
      "|0143cefe331ac3ee2a77115a66ed2e51|5d1248b5650b160001600efb|9.0               |\n",
      "|0143cefe331ac3ee2a77115a66ed2e51|5ce4347a650b1600015753e1|9.0               |\n",
      "|0143cefe331ac3ee2a77115a66ed2e51|5cf54fdf650b1600015bfe31|9.0               |\n",
      "|0143cefe331ac3ee2a77115a66ed2e51|5cfef993650b1600015db5e5|9.0               |\n",
      "|0143cefe331ac3ee2a77115a66ed2e51|5d125a52650b160001601410|9.0               |\n",
      "|0143cefe331ac3ee2a77115a66ed2e51|5cfae7ae650b1600015d5150|9.166666666666666 |\n",
      "|0143cefe331ac3ee2a77115a66ed2e51|5cd0ae62650b160001569a55|9.166666666666666 |\n",
      "|0143cefe331ac3ee2a77115a66ed2e51|5d35af8a106d4e00011f3029|9.173913043478262 |\n",
      "|0143cefe331ac3ee2a77115a66ed2e51|5d12a064650b160001605fdd|9.208333333333334 |\n",
      "|0143cefe331ac3ee2a77115a66ed2e51|5d347480106d4e00011acec3|9.208333333333334 |\n",
      "|0143cefe331ac3ee2a77115a66ed2e51|5d35b7f1106d4e00011f3e4a|9.227272727272727 |\n",
      "|0143cefe331ac3ee2a77115a66ed2e51|5d35791f106d4e00011dd31f|9.24              |\n",
      "|0143cefe331ac3ee2a77115a66ed2e51|5d35b36f106d4e00011f383d|9.24              |\n",
      "|0143cefe331ac3ee2a77115a66ed2e51|5cf5418d650b1600015bf43b|9.24              |\n",
      "|0143cefe331ac3ee2a77115a66ed2e51|5d35b122106d4e00011f3405|9.25              |\n",
      "|0143cefe331ac3ee2a77115a66ed2e51|5d35684f106d4e00011d5dd1|9.25              |\n",
      "|0143cefe331ac3ee2a77115a66ed2e51|5d355ac1106d4e00011cb906|9.28              |\n",
      "|0143cefe331ac3ee2a77115a66ed2e51|5d35b1b4106d4e00011f34f5|9.28              |\n",
      "|0143cefe331ac3ee2a77115a66ed2e51|5d3591bc106d4e00011e9ded|9.28              |\n",
      "|0143cefe331ac3ee2a77115a66ed2e51|5d35b03e106d4e00011f31e2|9.304347826086957 |\n",
      "|0143cefe331ac3ee2a77115a66ed2e51|5d355e39106d4e00011ce501|9.32              |\n",
      "|0143cefe331ac3ee2a77115a66ed2e51|5d35a62b106d4e00011f27b0|9.333333333333334 |\n",
      "|0143cefe331ac3ee2a77115a66ed2e51|5d3575d6106d4e00011dbf4b|9.333333333333334 |\n",
      "|0143cefe331ac3ee2a77115a66ed2e51|5d3566ca106d4e00011d510d|9.36              |\n",
      "|0143cefe331ac3ee2a77115a66ed2e51|5d1894d1650b160001616890|9.384615384615385 |\n",
      "|0143cefe331ac3ee2a77115a66ed2e51|5d3595d1106d4e00011f07ad|9.464285714285714 |\n",
      "|0143cefe331ac3ee2a77115a66ed2e51|5d023f3b650b1600015e77e1|9.464285714285714 |\n",
      "|0143cefe331ac3ee2a77115a66ed2e51|5ccee44c650b16000155cde8|9.464285714285714 |\n",
      "|0143cefe331ac3ee2a77115a66ed2e51|5cfae93f650b1600015d527f|9.464285714285714 |\n",
      "|022883e39ee16391f7268c92a7a86ed5|5cc448d1650b160001552358|1.0               |\n",
      "|022883e39ee16391f7268c92a7a86ed5|5ccadfb5650b160001555043|1.4074074074074074|\n",
      "|022883e39ee16391f7268c92a7a86ed5|5d348407106d4e00011b56d0|1.4074074074074074|\n",
      "|022883e39ee16391f7268c92a7a86ed5|5d35bfab106d4e00011f50f8|1.4285714285714286|\n",
      "|022883e39ee16391f7268c92a7a86ed5|5ce42f03650b1600015750de|1.4827586206896552|\n",
      "|022883e39ee16391f7268c92a7a86ed5|5ced44eb650b1600015ac0d4|2.0               |\n",
      "|022883e39ee16391f7268c92a7a86ed5|5d3577a1106d4e00011dc653|2.0476190476190474|\n",
      "|022883e39ee16391f7268c92a7a86ed5|5d353a0e106d4e00011b8915|2.2083333333333335|\n",
      "|022883e39ee16391f7268c92a7a86ed5|5cf52e42650b1600015b17c1|2.217391304347826 |\n",
      "|022883e39ee16391f7268c92a7a86ed5|5d009c88650b1600015df5a8|2.2272727272727275|\n",
      "|0348205bd7e5224cb4664a068a3abde7|5d082cdb650b1600015f0267|1.0               |\n",
      "|0348205bd7e5224cb4664a068a3abde7|5d3455d2106d4e00011a0cc3|1.2               |\n",
      "|0348205bd7e5224cb4664a068a3abde7|5d35af96106d4e00011f304e|1.2               |\n",
      "|0348205bd7e5224cb4664a068a3abde7|5d347483106d4e00011acefa|1.2               |\n",
      "|0348205bd7e5224cb4664a068a3abde7|5d35af36106d4e00011f2fc9|1.2               |\n",
      "|0408ee02bab4726393d2dbb26adb9e5d|5d347fad106d4e00011b1c18|1.0               |\n",
      "|0408ee02bab4726393d2dbb26adb9e5d|5d35b1ac106d4e00011f34e6|1.2173913043478262|\n",
      "|0408ee02bab4726393d2dbb26adb9e5d|5cc482d4650b160001552bd3|1.2173913043478262|\n",
      "|0408ee02bab4726393d2dbb26adb9e5d|5ce6f78f650b16000158fc5b|1.2173913043478262|\n",
      "+--------------------------------+------------------------+------------------+\n",
      "only showing top 100 rows\n",
      "\n"
     ]
    }
   ],
   "source": [
    "b.show(100,False)"
   ]
  },
  {
   "cell_type": "code",
   "execution_count": 52,
   "metadata": {},
   "outputs": [],
   "source": [
    "\n",
    "df_save=b.select(\"user_id\",\"_id\",\"score\")\\\n",
    "    .withColumn(\"Recommendations\", F.struct(F.col(\"_id\"), F.col(\"score\")))\\\n",
    "    .select(\"user_id\",\"Recommendations\")\\\n",
    "    .groupby(\"user_id\").agg(F.collect_list(\"Recommendations\").alias(\"Recommendations\"))  \n",
    "    \n",
    "    "
   ]
  },
  {
   "cell_type": "code",
   "execution_count": 53,
   "metadata": {},
   "outputs": [
    {
     "name": "stdout",
     "output_type": "stream",
     "text": [
      "root\n",
      " |-- user_id: string (nullable = true)\n",
      " |-- Recommendations: array (nullable = true)\n",
      " |    |-- element: struct (containsNull = true)\n",
      " |    |    |-- _id: string (nullable = true)\n",
      " |    |    |-- score: double (nullable = true)\n",
      "\n"
     ]
    }
   ],
   "source": [
    "df_save.printSchema()"
   ]
  },
  {
   "cell_type": "code",
   "execution_count": 54,
   "metadata": {},
   "outputs": [],
   "source": [
    "df_save.repartition(1) \\\n",
    "        .write.format(\"json\") \\\n",
    "        .mode(\"overwrite\") \\\n",
    "        .option(\"header\",\"true\")\\\n",
    "        .save(\"userrr_2\")\n"
   ]
  },
  {
   "cell_type": "code",
   "execution_count": null,
   "metadata": {},
   "outputs": [],
   "source": [
    "df_save.count()"
   ]
  },
  {
   "cell_type": "code",
   "execution_count": null,
   "metadata": {},
   "outputs": [],
   "source": []
  },
  {
   "cell_type": "code",
   "execution_count": null,
   "metadata": {},
   "outputs": [],
   "source": []
  },
  {
   "cell_type": "code",
   "execution_count": 4,
   "metadata": {},
   "outputs": [],
   "source": [
    "df_a = spark.read.format(\"json\").load(P_EVENT_LOGS_A)\n",
    "    #Non-Anonymous logs\n",
    "df_na = spark.read.format(\"json\").load(P_EVENT_LOGS_NA)\n",
    "    "
   ]
  },
  {
   "cell_type": "code",
   "execution_count": 9,
   "metadata": {},
   "outputs": [
    {
     "name": "stdout",
     "output_type": "stream",
     "text": [
      "root\n",
      " |-- contactId: string (nullable = true)\n",
      " |-- event: string (nullable = true)\n",
      " |-- eventCategory: string (nullable = true)\n",
      " |-- eventChannel: string (nullable = true)\n",
      " |-- eventComponent: string (nullable = true)\n",
      " |-- eventDesc: string (nullable = true)\n",
      " |-- eventPageType: string (nullable = true)\n",
      " |-- eventTimestamp: string (nullable = true)\n",
      " |-- label: string (nullable = true)\n",
      " |-- locationId: string (nullable = true)\n",
      " |-- locationName: string (nullable = true)\n",
      " |-- locationURL: string (nullable = true)\n",
      " |-- msgId: string (nullable = true)\n",
      " |-- partnerName: string (nullable = true)\n",
      " |-- propertyCity: string (nullable = true)\n",
      " |-- propertyCountry: string (nullable = true)\n",
      " |-- propertyId: string (nullable = true)\n",
      " |-- propertyProvince: string (nullable = true)\n",
      " |-- propertyReferrer: string (nullable = true)\n",
      " |-- propertyStatus: string (nullable = true)\n",
      " |-- propertyTitle: string (nullable = true)\n",
      " |-- propertyURL: string (nullable = true)\n",
      " |-- searchFilter: struct (nullable = true)\n",
      " |    |-- baths: string (nullable = true)\n",
      " |    |-- beds: string (nullable = true)\n",
      " |    |-- commute: struct (nullable = true)\n",
      " |    |    |-- address: string (nullable = true)\n",
      " |    |    |-- lat: double (nullable = true)\n",
      " |    |    |-- lng: double (nullable = true)\n",
      " |    |    |-- mode: string (nullable = true)\n",
      " |    |    |-- name: string (nullable = true)\n",
      " |    |    |-- range: long (nullable = true)\n",
      " |    |-- location: string (nullable = true)\n",
      " |    |-- locationLevel: string (nullable = true)\n",
      " |    |-- locationName: string (nullable = true)\n",
      " |    |-- maxPrice: string (nullable = true)\n",
      " |    |-- minPrice: string (nullable = true)\n",
      " |    |-- propertyType: string (nullable = true)\n",
      " |-- sessionid: string (nullable = true)\n",
      " |-- userBrowser: string (nullable = true)\n",
      " |-- userIPLocation: string (nullable = true)\n",
      " |-- userId: string (nullable = true)\n",
      " |-- userSessionStartTime: string (nullable = true)\n",
      "\n"
     ]
    }
   ],
   "source": [
    "df_a.printSchema()"
   ]
  },
  {
   "cell_type": "code",
   "execution_count": 10,
   "metadata": {},
   "outputs": [],
   "source": [
    "@"
   ]
  },
  {
   "cell_type": "code",
   "execution_count": 11,
   "metadata": {},
   "outputs": [],
   "source": [
    "df_union.registerTempTable(\"df_union_tbl\")"
   ]
  },
  {
   "cell_type": "code",
   "execution_count": 12,
   "metadata": {},
   "outputs": [
    {
     "name": "stdout",
     "output_type": "stream",
     "text": [
      "root\n",
      " |-- userId: string (nullable = true)\n",
      " |-- propertyId: string (nullable = true)\n",
      " |-- event: string (nullable = true)\n",
      " |-- eventChannel: string (nullable = true)\n",
      "\n"
     ]
    }
   ],
   "source": [
    "df_union.printSchema()"
   ]
  },
  {
   "cell_type": "code",
   "execution_count": 16,
   "metadata": {},
   "outputs": [
    {
     "name": "stdout",
     "output_type": "stream",
     "text": [
      "+----------------------+------------+--------+\n",
      "|event                 |eventChannel|count(1)|\n",
      "+----------------------+------------+--------+\n",
      "|Save search           |BE          |16095   |\n",
      "|Favorited a property  |BE          |1969    |\n",
      "|Shared URL            |BE          |160     |\n",
      "|Favorited a location  |BE          |101     |\n",
      "|Property visit request|BE          |77      |\n",
      "|Contact request       |BE          |75      |\n",
      "|Request for Financing |BE          |74      |\n",
      "|Sign up email         |BE          |4       |\n",
      "+----------------------+------------+--------+\n",
      "\n"
     ]
    }
   ],
   "source": [
    "spark.sql('''\n",
    "select event, eventChannel, count(1)\n",
    "from df_union_tbl \n",
    "where eventChannel='BE'\n",
    "group by 1,2\n",
    "order by 3 desc\n",
    "\n",
    "''').show(1000, False)"
   ]
  },
  {
   "cell_type": "code",
   "execution_count": 20,
   "metadata": {},
   "outputs": [
    {
     "name": "stdout",
     "output_type": "stream",
     "text": [
      "+----------------------------------------+------------+--------+\n",
      "|event                                   |eventChannel|count(1)|\n",
      "+----------------------------------------+------------+--------+\n",
      "|ThumbnailClicked                        |FE          |11821   |\n",
      "|Home                                    |FE          |11494   |\n",
      "|PhotoClicked                            |FE          |9560    |\n",
      "|Select                                  |FE          |5293    |\n",
      "|GoBackClicked                           |FE          |4368    |\n",
      "|SupportCTAClicked                       |FE          |4137    |\n",
      "|BankLogoClicked                         |FE          |3557    |\n",
      "|CommuteClicked                          |FE          |2557    |\n",
      "|SortingClicked                          |FE          |2439    |\n",
      "|AlertClicked                            |FE          |2434    |\n",
      "|Property                                |FE          |2279    |\n",
      "|CalculateClicked                        |FE          |1712    |\n",
      "|Favorited                               |FE          |1685    |\n",
      "|AlertSaved                              |FE          |1473    |\n",
      "|PriceClicked                            |FE          |1394    |\n",
      "|List: LoadMoreClicked                   |FE          |1264    |\n",
      "|LocationSelected                        |FE          |1086    |\n",
      "|SavedPropertiesClicked                  |FE          |909     |\n",
      "|LocaleClicked                           |FE          |830     |\n",
      "|SimilarPropertyClicked                  |FE          |817     |\n",
      "|HomeButtonClicked                       |FE          |804     |\n",
      "|TypeSelected: detached                  |FE          |791     |\n",
      "|MatchedLocations                        |FE          |757     |\n",
      "|MapSelected                             |FE          |708     |\n",
      "|PartnerCTAClicked                       |FE          |691     |\n",
      "|GetURLClicked                           |FE          |688     |\n",
      "|SortingSelected: Price Lo-Hi            |FE          |657     |\n",
      "|closeModal                              |FE          |580     |\n",
      "|A/B View                                |FE          |567     |\n",
      "|ClickSuggestedLocation                  |FE          |460     |\n",
      "|MapPinClicked                           |FE          |453     |\n",
      "|ScheduleVisit                           |FE          |453     |\n",
      "|BathsSelected: 2                        |FE          |417     |\n",
      "|MatchedProperties                       |FE          |378     |\n",
      "|TypeSelected: townhouse                 |FE          |358     |\n",
      "|BedsSelected: 3                         |FE          |355     |\n",
      "|StickyContactButton                     |FE          |313     |\n",
      "|FAQ                                     |FE          |305     |\n",
      "|proceedNoSave                           |FE          |303     |\n",
      "|TypeSelected: all                       |FE          |299     |\n",
      "|TypeSelected: apartment                 |FE          |287     |\n",
      "|BedsSelected: 4                         |FE          |272     |\n",
      "|StickyChat                              |FE          |263     |\n",
      "|BedsSelected: 2                         |FE          |250     |\n",
      "|SortingSelected: Price Hi-Lo            |FE          |245     |\n",
      "|BathsSelected: 3                        |FE          |207     |\n",
      "|MapViewClicked                          |FE          |206     |\n",
      "|POIAddressSelected                      |FE          |197     |\n",
      "|ListSelected                            |FE          |181     |\n",
      "|POIAdded                                |FE          |161     |\n",
      "|StickyGetinTouch                        |FE          |152     |\n",
      "|GetURLClosed                            |FE          |139     |\n",
      "|Update Contact                          |FE          |126     |\n",
      "|SortingSelected: Newest                 |FE          |126     |\n",
      "|AlertRemoved                            |FE          |122     |\n",
      "|LinkEmailed                             |FE          |120     |\n",
      "|SavedLocations                          |FE          |120     |\n",
      "|PhotosPinClicked                        |FE          |118     |\n",
      "|ScheduleEmailSubmit                     |FE          |118     |\n",
      "|MortgageCalculatorCTAClicked            |FE          |116     |\n",
      "|CashbackClicked                         |FE          |116     |\n",
      "|BedsSelected: 0                         |FE          |110     |\n",
      "|AlertEmailSubmitted                     |FE          |108     |\n",
      "|BathsSelected: 1                        |FE          |101     |\n",
      "|ContactPartnerClicked                   |FE          |100     |\n",
      "|SortingSelected: Bathrooms              |FE          |95      |\n",
      "|LoanCTAClicked                          |FE          |94      |\n",
      "|BedsSelected: 5                         |FE          |91      |\n",
      "|BathsSelected: 0                        |FE          |82      |\n",
      "|exitEmailSubmitted                      |FE          |80      |\n",
      "|CommuteType: bike                       |FE          |76      |\n",
      "|TravelTimeSelected: 20 minutes          |FE          |76      |\n",
      "|BedsSelected: 1                         |FE          |75      |\n",
      "|TravelTimeSelected: 5 minutes           |FE          |74      |\n",
      "|ComponentTriggered                      |FE          |70      |\n",
      "|Visited                                 |FE          |69      |\n",
      "|FBShare                                 |FE          |66      |\n",
      "|REClicked                               |FE          |63      |\n",
      "|BathsSelected: 4                        |FE          |62      |\n",
      "|POIRemoved                              |FE          |60      |\n",
      "|EmailShare                              |FE          |60      |\n",
      "|TravelTimeSelected: 35 minutes          |FE          |59      |\n",
      "|CommuteType: car                        |FE          |59      |\n",
      "|SortingSelected: Bedrooms               |FE          |57      |\n",
      "|Cashback                                |FE          |56      |\n",
      "|Unfavorited                             |FE          |49      |\n",
      "|EmailSent                               |FE          |48      |\n",
      "|TravelTimeSelected: 65 minutes          |FE          |48      |\n",
      "|TwitterShare                            |FE          |46      |\n",
      "|NestReadyEmailSubmit                    |FE          |43      |\n",
      "|OfferAccepted                           |FE          |42      |\n",
      "|Location                                |FE          |38      |\n",
      "|CommuteType: walk                       |FE          |38      |\n",
      "|PartnerCTAClickedAd                     |FE          |37      |\n",
      "|BathsSelected: 5                        |FE          |36      |\n",
      "|OfferMade                               |FE          |35      |\n",
      "|AlertViewed                             |FE          |34      |\n",
      "|VisitedDeselect                         |FE          |33      |\n",
      "|EEClicked                               |FE          |31      |\n",
      "|TravelTimeSelected: 50 minutes          |FE          |31      |\n",
      "|PartnerBanner                           |FE          |30      |\n",
      "|LifestyleSelected: suburban             |FE          |29      |\n",
      "|VisitAdBanner                           |FE          |27      |\n",
      "|AgentEmail                              |FE          |26      |\n",
      "|Map: LoadMoreClicked                    |FE          |25      |\n",
      "|SimilarPropertyViewMore                 |FE          |24      |\n",
      "|OfferAcceptedDeselect                   |FE          |22      |\n",
      "|Privacy Policy                          |FE          |20      |\n",
      "|LifestyleSelected: all                  |FE          |20      |\n",
      "|PartnerEmailSubmit                      |FE          |18      |\n",
      "|Visited: SavedListings                  |FE          |17      |\n",
      "|NestReadyCall                           |FE          |14      |\n",
      "|OfferMadeDeselect                       |FE          |12      |\n",
      "|Terms of Service                        |FE          |12      |\n",
      "|DemographicSelected: single             |FE          |11      |\n",
      "|prop-page-email                         |FE          |10      |\n",
      "|DemographicSelected: all                |FE          |10      |\n",
      "|DemographicsClicked                     |FE          |9       |\n",
      "|Resource Financial Services Phone Link  |FE          |9       |\n",
      "|DemographicSelected: young_children     |FE          |9       |\n",
      "|LifestyleSelected: urban                |FE          |8       |\n",
      "|EmailSubmitted                          |FE          |8       |\n",
      "|StickyCall                              |FE          |7       |\n",
      "|CallClicked                             |FE          |7       |\n",
      "|DemographicSelected: teenagers          |FE          |6       |\n",
      "|RequestInformationClicked               |FE          |6       |\n",
      "|LifestyleSelected: techies              |FE          |6       |\n",
      "|AgentCall                               |FE          |5       |\n",
      "|ChatClicked                             |FE          |5       |\n",
      "|LifestyleSelected: upscale              |FE          |5       |\n",
      "|DemographicSelected: empty_nest         |FE          |3       |\n",
      "|AlertClosed                             |FE          |3       |\n",
      "|LifestyleSelected: artistic             |FE          |3       |\n",
      "|LifestyleSelected: finance              |FE          |3       |\n",
      "|PartnerLink                             |FE          |3       |\n",
      "|PartnerCtaBanner                        |FE          |3       |\n",
      "|AgentChat                               |FE          |3       |\n",
      "|NestReadyEmail                          |FE          |2       |\n",
      "|LifestyleSelected: students             |FE          |2       |\n",
      "|Alterna Savings Phone Link              |FE          |1       |\n",
      "|LinkCopied                              |FE          |1       |\n",
      "|LifestyleSelected: homeowners           |FE          |1       |\n",
      "|Stockton Mortgage Corporation Phone Link|FE          |1       |\n",
      "|A/B Goal                                |FE          |1       |\n",
      "+----------------------------------------+------------+--------+\n",
      "\n"
     ]
    }
   ],
   "source": [
    "spark.sql('''\n",
    "select event, eventChannel, count(1)\n",
    "from df_union_tbl \n",
    "where eventChannel='FE'\n",
    "and event not like 'Min%'\n",
    "and event not like 'Bread%'\n",
    "group by 1,2\n",
    "order by 3 desc\n",
    "\n",
    "''').show(1000, False)"
   ]
  },
  {
   "cell_type": "code",
   "execution_count": null,
   "metadata": {},
   "outputs": [],
   "source": [
    ":contact_mortgage, \n",
    ":contact_brokerage, \n",
    ":property_schedule_visit, \n",
    ":filter_set, \n",
    ":share, \n",
    ":exit, \n",
    ":loc_signup, \n",
    ":favorite_property, \n",
    ":put_contact, \n",
    ":put_interest, \n",
    ":send_link\n",
    "                                            "
   ]
  },
  {
   "cell_type": "code",
   "execution_count": null,
   "metadata": {},
   "outputs": [],
   "source": [
    "Share Search - \"GetURLClicked\"\n",
    "Send Link - \"LinkEmailed\""
   ]
  },
  {
   "cell_type": "code",
   "execution_count": 32,
   "metadata": {},
   "outputs": [
    {
     "name": "stdout",
     "output_type": "stream",
     "text": [
      "Requirement already satisfied: Image in /Users/jatinmalhotra/anaconda3/lib/python3.7/site-packages (1.5.27)\n",
      "Requirement already satisfied: pillow in /Users/jatinmalhotra/anaconda3/lib/python3.7/site-packages (from Image) (5.4.1)\n",
      "Requirement already satisfied: django in /Users/jatinmalhotra/anaconda3/lib/python3.7/site-packages (from Image) (2.2.4)\n",
      "Requirement already satisfied: pytz in /Users/jatinmalhotra/anaconda3/lib/python3.7/site-packages (from django->Image) (2018.9)\n",
      "Requirement already satisfied: sqlparse in /Users/jatinmalhotra/anaconda3/lib/python3.7/site-packages (from django->Image) (0.3.0)\n"
     ]
    }
   ],
   "source": [
    "!pip install Image"
   ]
  },
  {
   "cell_type": "code",
   "execution_count": null,
   "metadata": {},
   "outputs": [],
   "source": []
  }
 ],
 "metadata": {
  "kernelspec": {
   "display_name": "Python 3",
   "language": "python",
   "name": "python3"
  },
  "language_info": {
   "codemirror_mode": {
    "name": "ipython",
    "version": 3
   },
   "file_extension": ".py",
   "mimetype": "text/x-python",
   "name": "python",
   "nbconvert_exporter": "python",
   "pygments_lexer": "ipython3",
   "version": "3.7.3"
  }
 },
 "nbformat": 4,
 "nbformat_minor": 2
}
